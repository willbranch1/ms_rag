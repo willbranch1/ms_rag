{
 "cells": [
  {
   "cell_type": "code",
   "execution_count": 1,
   "id": "c7103939-0e11-40de-9e37-50a3a749fd3f",
   "metadata": {},
   "outputs": [],
   "source": [
    "from transformers import Qwen2VLForConditionalGeneration, AutoTokenizer, AutoProcessor\n",
    "from qwen_vl_utils import process_vision_info\n",
    "import torch\n",
    "import csv, os, datetime\n",
    "\n",
    "image_dir = \"images/\"\n",
    "colpali_output = \"colpali_output.csv\"\n",
    "vlm_log = \"vlm_log.csv\"\n",
    "model_name = \"qwen_2_VL_2B_Instruct\""
   ]
  },
  {
   "cell_type": "code",
   "execution_count": 2,
   "id": "b21a25c2-f7fc-461f-9e0a-6a83a8079de9",
   "metadata": {},
   "outputs": [
    {
     "name": "stdout",
     "output_type": "stream",
     "text": [
      "Total memory: 15.70 GB\n",
      "Free memory: 11.91 GB\n",
      "Allocated memory: 0.00 GB\n",
      "Reserved memory: 0.00 GB\n"
     ]
    }
   ],
   "source": [
    "# Get total GPU memory\n",
    "total_memory = torch.cuda.get_device_properties(0).total_memory\n",
    "\n",
    "# Get free and total memory\n",
    "free_memory, total_memory = torch.cuda.mem_get_info()\n",
    "\n",
    "# Get allocated and reserved memory\n",
    "allocated_memory = torch.cuda.memory_allocated()\n",
    "reserved_memory = torch.cuda.memory_reserved()\n",
    "\n",
    "# Print memory information\n",
    "print(f\"Total memory: {total_memory / (1024**3):.2f} GB\")\n",
    "print(f\"Free memory: {free_memory / (1024**3):.2f} GB\")\n",
    "print(f\"Allocated memory: {allocated_memory / (1024**3):.2f} GB\")\n",
    "print(f\"Reserved memory: {reserved_memory / (1024**3):.2f} GB\")"
   ]
  },
  {
   "cell_type": "code",
   "execution_count": 1,
   "id": "7c621780-284e-4cc7-a0d9-c27e184f66ad",
   "metadata": {},
   "outputs": [],
   "source": [
    "def get_model_processor():\n",
    "    model = Qwen2VLForConditionalGeneration.from_pretrained(\n",
    "        \"Qwen/Qwen2-VL-2B-Instruct\", torch_dtype=\"auto\", device_map=\"auto\"\n",
    "    )\n",
    "    processor = AutoProcessor.from_pretrained(\"Qwen/Qwen2-VL-2B-Instruct\")\n",
    "    return model, processor\n",
    "    \n",
    "def generate_response(image, prompt, model, processor):\n",
    "    messages = [\n",
    "        {\n",
    "            \"role\": \"system\",\n",
    "            \"content\": \"If you do not know the answer, do not answer.\"\n",
    "        },\n",
    "        {\n",
    "            \"role\": \"user\",\n",
    "            \"content\": [\n",
    "                {\n",
    "                    \"type\": \"image\",\n",
    "                    \"image\": image_dir + image,\n",
    "                },\n",
    "                {\"type\": \"text\", \"text\": prompt},\n",
    "            ],\n",
    "        }\n",
    "    ]\n",
    "\n",
    "    text = processor.apply_chat_template(\n",
    "    messages, tokenize=False, add_generation_prompt=True\n",
    "    )\n",
    "    image_inputs, video_inputs = process_vision_info(messages)\n",
    "    inputs = processor(\n",
    "        text=[text],\n",
    "        images=image_inputs,\n",
    "        videos=video_inputs,\n",
    "        padding=True,\n",
    "        return_tensors=\"pt\",\n",
    "    )\n",
    "    inputs = inputs.to(\"cuda\")\n",
    "\n",
    "    generated_ids = model.generate(**inputs, max_new_tokens=128)\n",
    "    generated_ids_trimmed = [\n",
    "        out_ids[len(in_ids) :] for in_ids, out_ids in zip(inputs.input_ids, generated_ids)\n",
    "    ]\n",
    "    output_text = processor.batch_decode(\n",
    "        generated_ids_trimmed, skip_special_tokens=True, clean_up_tokenization_spaces=False\n",
    "    )\n",
    "\n",
    "    return output_text\n",
    "\n",
    "def log_response(doc_id, document, page_num, question, response):\n",
    "\n",
    "    isfile = os.path.isfile(vlm_log)\n",
    "    with open(vlm_log, mode='a', newline='') as file:\n",
    "        writer = csv.writer(file)\n",
    "    \n",
    "        if not isfile:\n",
    "            writer.writerow([\"doc_id\", \"document\", \"page_num\", \"question\", \"response\", \"model\", \"datetime\"])\n",
    "        \n",
    "        writer.writerow([doc_id, document, page_num, question, response, model_name, str(datetime.datetime.now())])"
   ]
  },
  {
   "cell_type": "code",
   "execution_count": 6,
   "id": "1bcdeea4-63a1-4dfe-a9aa-1e7618c275d2",
   "metadata": {},
   "outputs": [
    {
     "name": "stderr",
     "output_type": "stream",
     "text": [
      "`Qwen2VLRotaryEmbedding` can now be fully parameterized by passing the model config through the `config` argument. All other arguments will be removed in v4.46\n"
     ]
    },
    {
     "data": {
      "application/vnd.jupyter.widget-view+json": {
       "model_id": "4f439cb384bf4719828839df6df6c138",
       "version_major": 2,
       "version_minor": 0
      },
      "text/plain": [
       "Loading checkpoint shards:   0%|          | 0/2 [00:00<?, ?it/s]"
      ]
     },
     "metadata": {},
     "output_type": "display_data"
    }
   ],
   "source": [
    "model, processor = get_model_processor()"
   ]
  },
  {
   "cell_type": "code",
   "execution_count": null,
   "id": "693ca051-3e9a-4ff2-9700-8f519fa67746",
   "metadata": {},
   "outputs": [],
   "source": [
    "with open(colpali_output, mode='r', newline='') as file:\n",
    "    reader = csv.reader(file)\n",
    "    \n",
    "    header = next(reader)\n",
    "\n",
    "    for row_num, row in enumerate(reader, start=1):\n",
    "        doc_id, document, page_num, score, question, base64 = row\n",
    "        response = generate_response(base64, question, model, processor)\n",
    "        log_response(doc_id, document, page_num, question, response[0])"
   ]
  }
 ],
 "metadata": {
  "kernelspec": {
   "display_name": "Python 3 (ipykernel)",
   "language": "python",
   "name": "python3"
  },
  "language_info": {
   "codemirror_mode": {
    "name": "ipython",
    "version": 3
   },
   "file_extension": ".py",
   "mimetype": "text/x-python",
   "name": "python",
   "nbconvert_exporter": "python",
   "pygments_lexer": "ipython3",
   "version": "3.12.3"
  }
 },
 "nbformat": 4,
 "nbformat_minor": 5
}
