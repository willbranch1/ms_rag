{
 "cells": [
  {
   "cell_type": "code",
   "execution_count": 10,
   "id": "62e232d6-6adc-4551-806e-ea63a4325f3f",
   "metadata": {},
   "outputs": [
    {
     "data": {
      "text/plain": [
       "9223372036854775807"
      ]
     },
     "execution_count": 10,
     "metadata": {},
     "output_type": "execute_result"
    }
   ],
   "source": [
    "from transformers import Qwen2VLForConditionalGeneration, AutoTokenizer, AutoProcessor\n",
    "from qwen_vl_utils import process_vision_info\n",
    "import torch\n",
    "import csv, os, datetime, sys\n",
    "import ollama\n",
    "\n",
    "image_dir = \"images/\"\n",
    "colpali_output = \"colpali_output.csv\"\n",
    "ms_rag_log = \"ms_rag_log.csv\"\n",
    "model_name = \"qwen_2_VL_2B_Instruct\"\n",
    "\n",
    "csv.field_size_limit(sys.maxsize)"
   ]
  },
  {
   "cell_type": "code",
   "execution_count": null,
   "id": "d6f4c60e-56a8-45b7-94d0-c7661742fc02",
   "metadata": {},
   "outputs": [],
   "source": [
    "# Get total GPU memory\n",
    "total_memory = torch.cuda.get_device_properties(0).total_memory\n",
    "\n",
    "# Get free and total memory\n",
    "free_memory, total_memory = torch.cuda.mem_get_info()\n",
    "\n",
    "# Get allocated and reserved memory\n",
    "allocated_memory = torch.cuda.memory_allocated()\n",
    "reserved_memory = torch.cuda.memory_reserved()\n",
    "\n",
    "# Print memory information\n",
    "print(f\"Total memory: {total_memory / (1024**3):.2f} GB\")\n",
    "print(f\"Free memory: {free_memory / (1024**3):.2f} GB\")\n",
    "print(f\"Allocated memory: {allocated_memory / (1024**3):.2f} GB\")\n",
    "print(f\"Reserved memory: {reserved_memory / (1024**3):.2f} GB\")"
   ]
  },
  {
   "cell_type": "code",
   "execution_count": 7,
   "id": "08a9274c-56f7-4303-92c6-981fded271a2",
   "metadata": {},
   "outputs": [],
   "source": [
    "def get_model_processor():\n",
    "    model = Qwen2VLForConditionalGeneration.from_pretrained(\n",
    "        \"Qwen/Qwen2-VL-2B-Instruct\", torch_dtype=\"auto\", device_map=\"auto\"\n",
    "    )\n",
    "    processor = AutoProcessor.from_pretrained(\"Qwen/Qwen2-VL-2B-Instruct\")\n",
    "    return model, processor\n",
    "    \n",
    "def generate_response(image, text, prompt, model, processor):\n",
    "    #generate image output from vlm\n",
    "    messages = [\n",
    "        {\n",
    "            \"role\": \"system\",\n",
    "            \"content\": \"If you do not know the answer from the given image, do not answer.\"\n",
    "        },\n",
    "        {\n",
    "            \"role\": \"user\",\n",
    "            \"content\": [\n",
    "                {\n",
    "                    \"type\": \"image\",\n",
    "                    \"image\": image,\n",
    "                },\n",
    "                {\"type\": \"text\", \"text\": prompt},\n",
    "            ],\n",
    "        }\n",
    "    ]\n",
    "\n",
    "    text = processor.apply_chat_template(\n",
    "    messages, tokenize=False, add_generation_prompt=True\n",
    "    )\n",
    "    image_inputs, video_inputs = process_vision_info(messages)\n",
    "    inputs = processor(\n",
    "        text=[text],\n",
    "        images=image_inputs,\n",
    "        videos=video_inputs,\n",
    "        padding=True,\n",
    "        return_tensors=\"pt\",\n",
    "    )\n",
    "    inputs = inputs.to(\"cuda\")\n",
    "\n",
    "    generated_ids = model.generate(**inputs, max_new_tokens=128)\n",
    "    generated_ids_trimmed = [\n",
    "        out_ids[len(in_ids) :] for in_ids, out_ids in zip(inputs.input_ids, generated_ids)\n",
    "    ]\n",
    "    image_output = processor.batch_decode(\n",
    "        generated_ids_trimmed, skip_special_tokens=True, clean_up_tokenization_spaces=False\n",
    "    )\n",
    "    \n",
    "\n",
    "    #generate text output from llama\n",
    "    text_output = ollama.chat(\n",
    "        model = \"llama3.2\",\n",
    "        messages = [\n",
    "            {\n",
    "                \"role\":\"system\",\n",
    "                \"content\": \"If you do not know the answer from the given context then do not answer.\"\n",
    "            },\n",
    "            {\n",
    "                \"role\": \"user\",\n",
    "                \"content\": f\"Context: {text}, Question: {prompt}\",\n",
    "            }]\n",
    "    )\n",
    "\n",
    "    #generate aggregated output\n",
    "    final_output = ollama.chat(\n",
    "        model = \"llama3.2\",\n",
    "        messages = [\n",
    "            {\n",
    "                \"role\":\"system\",\n",
    "                \"content\": \"Generate a response based on the image and text context provided to answer the question.\"\n",
    "            },\n",
    "            {\n",
    "                \"role\": \"user\",\n",
    "                \"content\": f\"Image Context: {image_output}, Text Context: {text_output.message.content}, Question: {prompt}\",\n",
    "            }]\n",
    "    )\n",
    "    \n",
    "    return final_output.message.content\n",
    "    \n",
    "\n",
    "def log_response(doc_id, document, page_num, question, response):\n",
    "\n",
    "    isfile = os.path.isfile(ms_rag_log)\n",
    "    with open(ms_rag_log, mode='a', newline='') as file:\n",
    "        writer = csv.writer(file)\n",
    "    \n",
    "        if not isfile:\n",
    "            writer.writerow([\"doc_id\", \"document\", \"page_num\", \"question\", \"response\", \"model\", \"datetime\"])\n",
    "        \n",
    "        writer.writerow([doc_id, document, page_num, question, response, \"ms rag\", str(datetime.datetime.now())])\n",
    "\n",
    "def print_colpali_info(row):\n",
    "    print(f\"Question: {row[4]}\\nDocument: {row[1]}\\nPage Number: {row[2]}\")"
   ]
  },
  {
   "cell_type": "code",
   "execution_count": null,
   "id": "a29b2eba-0d0d-4d7c-8cef-046ba295a0ca",
   "metadata": {},
   "outputs": [],
   "source": [
    "model, processor = get_model_processor()"
   ]
  },
  {
   "cell_type": "code",
   "execution_count": 5,
   "id": "650c59f8-e201-412c-b62e-2235b8dd30a6",
   "metadata": {},
   "outputs": [],
   "source": [
    "colpali_info = []\n",
    "with open(colpali_output, mode='r', newline='') as file:\n",
    "    reader = csv.reader(file)\n",
    "    \n",
    "    header = next(reader)\n",
    "\n",
    "    for row_num, row in enumerate(reader, start=1):\n",
    "        doc_id, document, page_num, score, question, base64 = row\n",
    "        colpali_info.append([doc_id, document, page_num, score, question, base64])"
   ]
  },
  {
   "cell_type": "code",
   "execution_count": 9,
   "id": "050460bb-2433-4151-a9e2-412238627096",
   "metadata": {},
   "outputs": [
    {
     "name": "stdout",
     "output_type": "stream",
     "text": [
      "Question: What does Figure 1 illustrate in 'A Simple yet Universal Framework for Depth Completion'?\n",
      "Document: A Simple yet Universal Framework for Depth Completion.pdf\n",
      "Page Number: 1\n"
     ]
    }
   ],
   "source": [
    "colpali_row = 0\n",
    "print_colpali_info(colpali_info[colpali_row])"
   ]
  },
  {
   "cell_type": "code",
   "execution_count": null,
   "id": "da3c55f5-c4b8-4ecf-91b6-92a247ce1824",
   "metadata": {},
   "outputs": [],
   "source": [
    "text = \"\" #I just copy and paste from the pdf document into this string\n",
    "image = \"\" #The image corresponding to the page from the above cell will be snipped and saved to the image directory. The filename is entered here\n",
    "response = generate_response(image_dir + image, text, colpali_info[colpali_row][4], model, processor)\n",
    "log_response(colpali_info[colpali_row][0], colpali_info[colpali_row][1], colpali_info[colpali_row][2], colpali_info[colpali_row][4], response)"
   ]
  }
 ],
 "metadata": {
  "kernelspec": {
   "display_name": "Python 3 (ipykernel)",
   "language": "python",
   "name": "python3"
  },
  "language_info": {
   "codemirror_mode": {
    "name": "ipython",
    "version": 3
   },
   "file_extension": ".py",
   "mimetype": "text/x-python",
   "name": "python",
   "nbconvert_exporter": "python",
   "pygments_lexer": "ipython3",
   "version": "3.12.3"
  }
 },
 "nbformat": 4,
 "nbformat_minor": 5
}
